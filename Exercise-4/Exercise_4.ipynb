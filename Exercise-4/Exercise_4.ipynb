{
 "cells": [
  {
   "cell_type": "markdown",
   "metadata": {
    "deletable": false,
    "editable": false,
    "nbgrader": {
     "cell_type": "markdown",
     "checksum": "f4c8e1a026704b146d8c6da89a1366f8",
     "grade": false,
     "grade_id": "cell-515e01b25bda86a9",
     "locked": true,
     "schema_version": 3,
     "solution": false,
     "task": false
    }
   },
   "source": [
    "# Exercise 4"
   ]
  },
  {
   "cell_type": "markdown",
   "metadata": {
    "deletable": false,
    "editable": false,
    "nbgrader": {
     "cell_type": "markdown",
     "checksum": "4b626efa2d7eef08626b61e49a967259",
     "grade": false,
     "grade_id": "cell-14ca577e70096fbf",
     "locked": true,
     "schema_version": 3,
     "solution": false,
     "task": false
    }
   },
   "source": [
    "## physics718: Programming in Physics and Astronomy with C++ or Python (SS 2020)\n",
    "Oliver Cordes & Thomas Erben"
   ]
  },
  {
   "cell_type": "markdown",
   "metadata": {
    "deletable": false,
    "editable": false,
    "nbgrader": {
     "cell_type": "markdown",
     "checksum": "285935f99eb5798af40d1334cfe8fc6b",
     "grade": false,
     "grade_id": "cell-58e8949e2e41603c",
     "locked": true,
     "schema_version": 3,
     "solution": false,
     "task": false
    }
   },
   "source": [
    "Homework is due on **Friday, 29/05/2020, 23:59pm**\n",
    "\n",
    " * You only learn a programming language by actively praticing and using it! We therefore **strongly** advise you to work on the homework problems.\n",
    " * Please discuss the problems with your student peers in case of problems.\n",
    " * Your code(s) needs to be well and appropriately commented!\n",
    " * All files of your solution should be in the same directory as this notebook including scripts, images, additional notebooks etc.\n",
    " * References to files in scripts and notebooks should be done with relative paths\n",
    " * Finally submit this notebook with your solutions in the nbgrader system\n",
    " \n",
    "**Main topics of this exercise:**\n",
    " * functions\n",
    " * *numpy* arrays"
   ]
  },
  {
   "cell_type": "markdown",
   "metadata": {},
   "source": [
    "Put in here your group number: \n",
    "\n",
    "Group XX"
   ]
  },
  {
   "cell_type": "markdown",
   "metadata": {
    "deletable": false,
    "editable": false,
    "nbgrader": {
     "cell_type": "markdown",
     "checksum": "0c9bde102be5e00f66d648db1d9897c4",
     "grade": false,
     "grade_id": "cell-5cda14cc36961ab2",
     "locked": true,
     "schema_version": 3,
     "solution": false,
     "task": false
    }
   },
   "source": [
    "# 1. Sieves with numpy (20 Points)"
   ]
  },
  {
   "cell_type": "markdown",
   "metadata": {
    "deletable": false,
    "editable": false,
    "nbgrader": {
     "cell_type": "markdown",
     "checksum": "ea9ecc2c2cbaa0f9c4dbe6ba6f75cbef",
     "grade": false,
     "grade_id": "cell-f3ef7b1b33b7906e",
     "locked": true,
     "schema_version": 3,
     "solution": false,
     "task": false
    }
   },
   "source": [
    "One mathematical algorithm to generate sequences of numbers is the sieve algorithm. In these algorithms one starts with a list of integer numbers $1,2,3,4,...$ and consecutively removes individual numbers with a given rule set. The most prominent sieves are the Sieve of Eratosthenes and the Sieve to generate Lucky numbers. In this exercise we want to implement both sieves with numpy operations."
   ]
  },
  {
   "cell_type": "markdown",
   "metadata": {
    "deletable": false,
    "editable": false,
    "nbgrader": {
     "cell_type": "markdown",
     "checksum": "11732e9c7e2c5607f0ca414f78dd1dc0",
     "grade": false,
     "grade_id": "cell-55ffd4d13abbd1ec",
     "locked": true,
     "schema_version": 3,
     "solution": false,
     "task": false
    }
   },
   "source": [
    "## 1.1 The sieve of Eratosthenes (10 Points)"
   ]
  },
  {
   "cell_type": "markdown",
   "metadata": {
    "deletable": false,
    "editable": false,
    "nbgrader": {
     "cell_type": "markdown",
     "checksum": "102cbbc46ee4efb32c16eac98eb2924e",
     "grade": false,
     "grade_id": "cell-8af41583ca223a73",
     "locked": true,
     "schema_version": 3,
     "solution": false,
     "task": false
    }
   },
   "source": [
    "The sieve of Eratosthenes is an easy but effective algorithm to search for prime numbers until a given number $N$. \n",
    "\n",
    "You can use the following steps to implement the sieve:\n",
    "\n",
    " 1. you can create an boolean *numpy*-array of the length $N+1$ in which all elements have the value *True*. The indices \n",
    "   in this array represents the integer numbers. At the end of the procedure all the indices of the elemnets with are *True* are    the prime numbers.\n",
    " 2. set the array elements with the indices 0 and 1 to False, because they are no prime numbers\n",
    " 3. start with the element at the index 2, sets all elements to *False* which are multiples of the current index. Don't change \n",
    "   the current index! For the index 2, the indices of the elements to be set to *False* are $4, 6, 8, \\dots$. For the index 3\n",
    "   the indices are $6, 9, 12, \\cdots$, etc. \n",
    " 4. do step 3. for all indices $i$ with $2\\leq i \\leq \\sqrt{N}$ \n",
    " 5. Finally all indices with are *True* representing prime numbers.\n",
    "\n",
    "The following figure illustrate the algorithm. Prime numbers are marked with arrows.\n",
    "\n",
    "<img src=\"prime-sieve.jpg\" style=\"width: 400px;\"> \n",
    "\n",
    "**Your task**:\n",
    "\n",
    "Implement the sieve of Eratosthenes in a python function *sieve_of_eratosthenes*. The function should have only one argument, the number of elements $N$. The function should return a numpy array of the prime numbers."
   ]
  },
  {
   "cell_type": "markdown",
   "metadata": {
    "deletable": false,
    "editable": false,
    "nbgrader": {
     "cell_type": "markdown",
     "checksum": "2c070ac0f5e0cee868beafff92cea645",
     "grade": false,
     "grade_id": "cell-31727d67d9bafc27",
     "locked": true,
     "schema_version": 3,
     "solution": false,
     "task": false
    }
   },
   "source": [
    "**Hints**:\n",
    " * Use the numpy masking to set all mupliples of an index to *False*. \n",
    " * you can create an bool array like this"
   ]
  },
  {
   "cell_type": "code",
   "execution_count": null,
   "metadata": {},
   "outputs": [],
   "source": [
    "import numpy as np\n",
    "\n",
    "b = np.array([True]*20)  # create a bool numpy array with 20 elements"
   ]
  },
  {
   "cell_type": "markdown",
   "metadata": {
    "deletable": false,
    "editable": false,
    "nbgrader": {
     "cell_type": "markdown",
     "checksum": "28b56bd7bcb8c0a827bd7758a7582db3",
     "grade": false,
     "grade_id": "cell-e9eb248ad7d31244",
     "locked": true,
     "schema_version": 3,
     "solution": false,
     "task": false
    }
   },
   "source": [
    " * To convert the bool array into a list of numbers you can use these algorithm:"
   ]
  },
  {
   "cell_type": "code",
   "execution_count": null,
   "metadata": {},
   "outputs": [],
   "source": [
    "import numpy as np\n",
    "\n",
    "c = [False, False, True, True, False, True]\n",
    "print(np.nonzero(c)[0])"
   ]
  },
  {
   "cell_type": "code",
   "execution_count": null,
   "metadata": {
    "deletable": false,
    "nbgrader": {
     "cell_type": "code",
     "checksum": "b890e98eb2086458e9a40648b6784a89",
     "grade": false,
     "grade_id": "cell-4cd67300e951472b",
     "locked": false,
     "schema_version": 3,
     "solution": true,
     "task": false
    }
   },
   "outputs": [],
   "source": [
    "import sys\n",
    "import numpy as np\n",
    "\n",
    "# The following ensures that arrays are printed without truncation within a notebook\n",
    "np.set_printoptions(threshold=sys.maxsize)\n",
    "\n",
    "\n",
    "def sieve_of_eratosthenes(N):\n",
    "       c = [True for i in range(N+1)]   #mask for the array
    c[0] =  c[1] = False    #setting the first two value to False
    p = 2    #the first prime
    while (p * p <= N):   #going until sqrt(N)
        if (c[p] == True):     # we have a prime if c[p] is unchanged 
            for i in range(p * p, N + 1, p):     #setting all multiples of the prime with False
                c[i] = False
        p = p + 1
        
    return np.nonzero(c)[0]    #getting the c's indexes which have True value",
    "    raise NotImplementedError()"
   ]
  },
  {
   "cell_type": "markdown",
   "metadata": {
    "deletable": false,
    "editable": false,
    "nbgrader": {
     "cell_type": "markdown",
     "checksum": "e5d47979051be2727b6f609221055993",
     "grade": false,
     "grade_id": "cell-b9fe3f685950170c",
     "locked": true,
     "schema_version": 3,
     "solution": false,
     "task": false
    }
   },
   "source": [
    "Test your code here:"
   ]
  },
  {
   "cell_type": "code",
   "execution_count": null,
   "metadata": {},
   "outputs": [],
   "source": [
    "print(sieve_of_eratosthenes(10))"
   ]
  },
  {
   "cell_type": "code",
   "execution_count": null,
   "metadata": {
    "deletable": false,
    "editable": false,
    "nbgrader": {
     "cell_type": "code",
     "checksum": "3241db5b2872dc7f1fb823eaa2de44cf",
     "grade": true,
     "grade_id": "cell-27b8e38247f42fca",
     "locked": true,
     "points": 10,
     "schema_version": 3,
     "solution": false,
     "task": false
    }
   },
   "outputs": [],
   "source": [
    "assert(np.any(sieve_of_eratosthenes(10) == np.array([2,3,5,7])))"
   ]
  },
  {
   "cell_type": "markdown",
   "metadata": {
    "deletable": false,
    "editable": false,
    "nbgrader": {
     "cell_type": "markdown",
     "checksum": "05342f85237bac45a008e7c7e582df29",
     "grade": false,
     "grade_id": "cell-54b4d70e6eed5ee5",
     "locked": true,
     "schema_version": 3,
     "solution": false,
     "task": false
    }
   },
   "source": [
    "## 1.2 Lucky numbers (10 Points)"
   ]
  },
  {
   "cell_type": "markdown",
   "metadata": {
    "deletable": false,
    "editable": false,
    "nbgrader": {
     "cell_type": "markdown",
     "checksum": "e02db5f9be5a5b7d57e35ca4e33c7825",
     "grade": false,
     "grade_id": "cell-48e5f6f0d07155db",
     "locked": true,
     "schema_version": 3,
     "solution": false,
     "task": false
    }
   },
   "source": [
    "The second sieve algorithm is the generation of the so called *Lucky numbers*. These are a series of integer numbers $1,3,7,9,13,...$. The steps for the sieve are as follows:\n",
    "\n",
    "1. begin with a list of integers starting with $1$:\n",
    "   $$1, 2, 3, 4, 5, 6, 7, 8, 9, 10, 11, 12, 13, 14, 15, 16, 17, 18, 19, 20, 21, 22, 23, 24, 25, ...$$\n",
    "2. now eliminate every second number:\n",
    "   $$ 1, 3, 5, 7, 9, 11, 13, 15, 17, 19, 21, 23, 25, ... $$\n",
    "3. the second remaining number is 3, so remove every 3rd number:\n",
    "   $$ 1, 3, 7, 9, 13, 15, 19, 21, 25, ... $$\n",
    "4. the next remaining number is 7, so remove every 7th number:\n",
    "   $$ 1, 3, 7, 9, 13, 15, 21, 25, ... $$\n",
    "5. next, remove every 9th number and so on.\n",
    "\n",
    "**Your task**:\n",
    "\n",
    "Write a function *lucky_numbers* which has one argument $N$ which is the maximum number to be checked. The function should return a numpy array which contains the lucky numbers smaller or equal $n$. Choose a proper return value for the case $N=0$ and $N=1$. It is forbidden to loop over elements, only numpy functions are allowed! In comparison to the sieve of Eratosthenes you will reduce the elements of the list of numbers in each step by masking instead of creating a full mask for the prime numbers.\n",
    "\n",
    "**Hints**:\n",
    "* use a while loop for all the masking steps, the loop should end when the current index is reaching the length of the array. Note here that the length is changing in every step!\n",
    "* in each step create a bool mask in which you define which element should be masked out with *False* and apply this mask\n",
    "  to get a new array"
   ]
  },
  {
   "cell_type": "code",
   "execution_count": null,
   "metadata": {
    "deletable": false,
    "nbgrader": {
     "cell_type": "code",
     "checksum": "61da9f37c64223f0f6111f06a6564f90",
     "grade": false,
     "grade_id": "cell-5a611fd1bb110a82",
     "locked": false,
     "schema_version": 3,
     "solution": true,
     "task": false
    }
   },
   "outputs": [],
   "source": [
    "import numpy as np\n",
    "\n",
    "\n",
    "def lucky_numbers(N):\n",
    "    # YOUR CODE HERE\n",
    "    raise NotImplementedError()"
   ]
  },
  {
   "cell_type": "markdown",
   "metadata": {
    "deletable": false,
    "editable": false,
    "nbgrader": {
     "cell_type": "markdown",
     "checksum": "ec3be90168be8b240195f6acefd8764a",
     "grade": false,
     "grade_id": "cell-44a86e6aac0661dd",
     "locked": true,
     "schema_version": 3,
     "solution": false,
     "task": false
    }
   },
   "source": [
    "Your test cell:"
   ]
  },
  {
   "cell_type": "code",
   "execution_count": null,
   "metadata": {},
   "outputs": [],
   "source": [
    "# print(lucky_numbers(10))"
   ]
  },
  {
   "cell_type": "code",
   "execution_count": null,
   "metadata": {
    "deletable": false,
    "editable": false,
    "nbgrader": {
     "cell_type": "code",
     "checksum": "a93a2ce33ebf98e64249febe35832d1b",
     "grade": true,
     "grade_id": "cell-b7431ef708aff2bf",
     "locked": true,
     "points": 10,
     "schema_version": 3,
     "solution": false,
     "task": false
    }
   },
   "outputs": [],
   "source": [
    "b = lucky_numbers(13)\n",
    "assert(np.all(b == np.array([1,3,7,9,13], dtype=np.int64) ))"
   ]
  },
  {
   "cell_type": "markdown",
   "metadata": {
    "deletable": false,
    "editable": false,
    "nbgrader": {
     "cell_type": "markdown",
     "checksum": "3de9fa924874e2a1a4525e31fa139f77",
     "grade": false,
     "grade_id": "cell-bd12855877777712",
     "locked": true,
     "schema_version": 3,
     "solution": false,
     "task": false
    }
   },
   "source": [
    "# 2. Sampling problem (10 Points)"
   ]
  },
  {
   "cell_type": "markdown",
   "metadata": {
    "deletable": false,
    "editable": false,
    "nbgrader": {
     "cell_type": "markdown",
     "checksum": "7b07165aef13dc05f428c5fc1cb73d86",
     "grade": false,
     "grade_id": "cell-a6f613b2b99839fd",
     "locked": true,
     "schema_version": 3,
     "solution": false,
     "task": false
    }
   },
   "source": [
    "In the first exercise we had a documentation about the Bessel functions. We will again look at the Bessel functions of the first kind which can be written for $x\\gg n$ in the asymptotic form:\n",
    "\n",
    "$$J_n(x) \\approx \\sqrt{\\frac{2}{\\pi x}}\\cos(x-(n\\frac{\\pi}{2}+\\frac{\\pi}{4}))$$\n",
    "\n",
    "As you can see it is a periodic function which envelope scales with $\\approx \\sqrt{\\frac{1}{x}}$. \n",
    "\n",
    "For different values of $n$ for $x\\gg n$ the periodic approximations only differ in the phase, so we can use $n=0$ as an example."
   ]
  },
  {
   "cell_type": "markdown",
   "metadata": {
    "deletable": false,
    "editable": false,
    "nbgrader": {
     "cell_type": "markdown",
     "checksum": "af5ceb6c8b19452dd7a94da88da94e5c",
     "grade": false,
     "grade_id": "cell-857e6f5befb08db3",
     "locked": true,
     "schema_version": 3,
     "solution": false,
     "task": false
    }
   },
   "source": [
    "Usually to plot a function with matplotlib you're using a $x$ array created with *np.linspace* in an interval $[a,b]$, calculate the function values $y$  and plot $x$ vs. $y$. If we are doing so, we get the plot from the interval $[0.1,50]$ (left plot) and $[0.1,300]$ (right plot). \n",
    "<table>\n",
    "    <tr>\n",
    "        <td><img src=\"bessel50_plot.png\"/></td>\n",
    "        <td><img src=\"bessel300_plot.png\"/></td>\n",
    "    </tr>\n",
    "</table>\n",
    "In both plots the red lines are the upper envelopes of the Bessel functions. As one can see the right plot looks not as expected whereas the left one fits nicely the envelope function. "
   ]
  },
  {
   "cell_type": "markdown",
   "metadata": {
    "deletable": false,
    "editable": false,
    "nbgrader": {
     "cell_type": "markdown",
     "checksum": "d22873e2206b7dc1485233f0647836ae",
     "grade": false,
     "grade_id": "cell-17f3af56c3efef4b",
     "locked": true,
     "schema_version": 3,
     "solution": false,
     "task": false
    }
   },
   "source": [
    "This problem is well understood and described as the Nyquist sampling (have a look at this [page](http://microscopy.berkeley.edu/courses/dib/sections/02Images/sampling.html)). It basically means that the amount of numbers which is used for the plot is too small in the right plot. \n",
    "\n",
    "During the discussions of this problem is how to quantify how good the sampling of the function would be. One idea \n",
    "was that undersampled periodic functions have less roots than a well sampled functions. Your task would be to calculate the minimum number of elements a sampled Bessel function should have.\n",
    "\n",
    "**Your task**:\n",
    "\n",
    " * implement the $J_0$ function.\n",
    " * write a function *min_samples* and calculates the minimum number of elements necessary to make a proper plot for $J_0$ from $0.1$ until $300$ and plot the function. Do the plot looks now okay? *min_samples* should accept two parameters $a$ and $b$ which describes the plot interval and should return an integer as the result.\n",
    "\n"
   ]
  },
  {
   "cell_type": "code",
   "execution_count": null,
   "metadata": {
    "deletable": false,
    "nbgrader": {
     "cell_type": "code",
     "checksum": "d81d5e2f7f7fb22d551248e4e7d3947a",
     "grade": false,
     "grade_id": "cell-aab1858be683b9fb",
     "locked": false,
     "schema_version": 3,
     "solution": true,
     "task": false
    }
   },
   "outputs": [],
   "source": [
    "%matplotlib inline\n",
    "\n",
    "import matplotlib.pyplot as plt\n",
    "import numpy as np\n",
    "\n",
    "\n",
    "def min_sample(a, b):\n",
    "    # YOUR CODE HERE\n",
    "    raise NotImplementedError()"
   ]
  },
  {
   "cell_type": "markdown",
   "metadata": {
    "deletable": false,
    "editable": false,
    "nbgrader": {
     "cell_type": "markdown",
     "checksum": "d53d81c7519ea83d4b3df365ca943294",
     "grade": false,
     "grade_id": "cell-85813c6802e384ae",
     "locked": true,
     "schema_version": 3,
     "solution": false,
     "task": false
    }
   },
   "source": [
    "Write here your own tests:"
   ]
  },
  {
   "cell_type": "code",
   "execution_count": null,
   "metadata": {},
   "outputs": [],
   "source": [
    "# put in here your test"
   ]
  },
  {
   "cell_type": "code",
   "execution_count": null,
   "metadata": {
    "deletable": false,
    "editable": false,
    "nbgrader": {
     "cell_type": "code",
     "checksum": "3c4c6eb6ac6e38eb4f52bc41485c1189",
     "grade": true,
     "grade_id": "cell-7e4f94adf55cc9c2",
     "locked": true,
     "points": 10,
     "schema_version": 3,
     "solution": false,
     "task": false
    }
   },
   "outputs": [],
   "source": [
    "assert(min_sample(0.1,300) == 96)"
   ]
  },
  {
   "cell_type": "markdown",
   "metadata": {
    "deletable": false,
    "editable": false,
    "nbgrader": {
     "cell_type": "markdown",
     "checksum": "a8d7e9470cd33b91e2e87d2ee1dab4d8",
     "grade": false,
     "grade_id": "cell-0feb6ad45a48bd0c",
     "locked": true,
     "schema_version": 3,
     "solution": false,
     "task": false
    }
   },
   "source": [
    "# 3. A fair game? (20 Points)"
   ]
  },
  {
   "cell_type": "markdown",
   "metadata": {
    "deletable": false,
    "editable": false,
    "nbgrader": {
     "cell_type": "markdown",
     "checksum": "108d063ab741c9114b57044d91b192ac",
     "grade": false,
     "grade_id": "cell-2ec32c518899efbb",
     "locked": true,
     "schema_version": 3,
     "solution": false,
     "task": false
    }
   },
   "source": [
    "A gambler offers you the following game:\n",
    "1. To play one game, you have to pay him 600 Euros.\n",
    "2. For each game you have to give him a limit between 2 and 999 Euros.\n",
    "3. He gives you an envelope with an arbitraty amount of money (uniform distribution) between 1 and 1000 Euros.\n",
    "4. If the amount of money in the envelope is equal or above your limit of (2.) you have to accept the money and the game ends.\n",
    "5. If the amount of money in the envelope is below your limit of (2), he gives you a new envelope - again with an arbitrary amount of money between 1 and 1000 Euros. You have to accept the amount of money in the second envelope and the game ends. Note that the amount of money in the second envelope can be lower than what you would have got with the first one!\n",
    "\n",
    "\n",
    "In this task, we want to check, with which strategy for the limit of (2) the game  is favourable for you. The game is said to be favourable if the *expectation value* of your win minus the initial bet of 600 Euros is positive."
   ]
  },
  {
   "cell_type": "markdown",
   "metadata": {
    "deletable": false,
    "editable": false,
    "nbgrader": {
     "cell_type": "markdown",
     "checksum": "ac1a049bf5d2091d18dc1e737618d4ce",
     "grade": false,
     "grade_id": "cell-bc36c45de7666c86",
     "locked": true,
     "schema_version": 3,
     "solution": false,
     "task": false
    }
   },
   "source": [
    "**Your tasks**:"
   ]
  },
  {
   "cell_type": "markdown",
   "metadata": {
    "deletable": false,
    "editable": false,
    "nbgrader": {
     "cell_type": "markdown",
     "checksum": "d088c37814df45ec17bd442ab1d9ce8b",
     "grade": false,
     "grade_id": "cell-bcf5865d716f984b",
     "locked": true,
     "schema_version": 3,
     "solution": false,
     "task": false
    }
   },
   "source": [
    "1. Write a function `win` which takes the limit of (2) as an argument. Within the function perform 20000 simulation of the game. The function should return the mean and the standard deviation of the win from the 20000 realisations.\n",
    "\n",
    "  **Hints / Remarks:** \n",
    "  1. a *numpy*-array with the necessary random numbers can be created with the `numpy.random.uniform` function; \n",
    "  2. besides the creation of the initial array of random numbers, the function can be done with 2-3 essential lines of code using boolean indexing and array assignments; it is very similar to the *estimation of $\\pi$*-example we did in the lecture stream; \n",
    "  3. mean and standard deviation of a *numpy*-array can be obtained with the function `np.mean` and `np.std`. \n",
    "  4. you are **not** allowed to use any loop constructs over the 20000 simulations within this function.\n",
    "  \n",
    "2. In the main body of your program, loop over possible limits from 1 to 999 Euros, obtain the win expectation with those strategies and store these values in a *numpy*-array. Make a plot of the expected win values. For wich strategies is the game favourable for you?\n",
    "\n",
    "  **Hint:** We will learn later, how you could do also this task without a loop-construct.\n",
    "  \n",
    "3. Finally, consider playing games with setting the limit arbitrarily between 1 and 999 Euros for each game. What is the expected win and the standard deviation in that case?  "
   ]
  },
  {
   "cell_type": "code",
   "execution_count": null,
   "metadata": {
    "deletable": false,
    "nbgrader": {
     "cell_type": "code",
     "checksum": "404c51fdaf6778660bd42bceb053e339",
     "grade": true,
     "grade_id": "cell-fbc9fbaa08b141aa",
     "locked": false,
     "points": 20,
     "schema_version": 3,
     "solution": true,
     "task": false
    }
   },
   "outputs": [],
   "source": [
    "# YOUR CODE HERE\n",
    "raise NotImplementedError()"
   ]
  }
 ],
 "metadata": {
  "kernelspec": {
   "display_name": "Python 3",
   "language": "python",
   "name": "python3"
  },
  "language_info": {
   "codemirror_mode": {
    "name": "ipython",
    "version": 3
   },
   "file_extension": ".py",
   "mimetype": "text/x-python",
   "name": "python",
   "nbconvert_exporter": "python",
   "pygments_lexer": "ipython3",
   "version": "3.7.3"
  }
 },
 "nbformat": 4,
 "nbformat_minor": 4
}
