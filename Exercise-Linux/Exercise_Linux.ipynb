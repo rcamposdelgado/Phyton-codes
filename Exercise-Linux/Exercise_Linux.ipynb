{
 "cells": [
  {
   "cell_type": "markdown",
   "metadata": {
    "deletable": false,
    "editable": false,
    "nbgrader": {
     "cell_type": "markdown",
     "checksum": "8ef9e896850857ae36f680c778493897",
     "grade": false,
     "grade_id": "cell-515e01b25bda86a9",
     "locked": true,
     "schema_version": 3,
     "solution": false,
     "task": false
    }
   },
   "source": [
    "# Exercise Linux"
   ]
  },
  {
   "cell_type": "markdown",
   "metadata": {
    "deletable": false,
    "editable": false,
    "nbgrader": {
     "cell_type": "markdown",
     "checksum": "4b626efa2d7eef08626b61e49a967259",
     "grade": false,
     "grade_id": "cell-14ca577e70096fbf",
     "locked": true,
     "schema_version": 3,
     "solution": false,
     "task": false
    }
   },
   "source": [
    "## physics718: Programming in Physics and Astronomy with C++ or Python (SS 2020)\n",
    "Oliver Cordes & Thomas Erben"
   ]
  },
  {
   "cell_type": "markdown",
   "metadata": {
    "deletable": false,
    "editable": false,
    "nbgrader": {
     "cell_type": "markdown",
     "checksum": "d38c1940366f5b1e90b71b31f0b2ba10",
     "grade": false,
     "grade_id": "cell-58e8949e2e41603c",
     "locked": true,
     "schema_version": 3,
     "solution": false,
     "task": false
    }
   },
   "source": [
    "Homework is due on **Tuesday, 12/05/2020, 23:59pm**\n",
    "\n",
    "Our course requires some basic knowledge on using a *Unix*-system via the command-line (terminal). In the following you find some test questions representing the level of knowledge you should have.\n",
    "\n",
    "You should be able to solve *all* these questions without the need to look up commands or to query the internet. You will need to do similar tasks regularly during our course work. If you would like to fresh up some knowledge, each task is followed by the topic(s) it is testing so that you can look it up if you want to.\n",
    "\n",
    " * We **strongly** advise you to work on the homework problems.\n",
    " * Please discuss the problems with your student peers in case of problems.\n",
    " * All files of your solution should be in the same directory as this notebook\n",
    " * Finally submit this notebook with your solutions in the nbgrader system\n",
    " \n",
    "**Main topics of this exercise:**\n",
    " * working with the Linux terminal"
   ]
  },
  {
   "cell_type": "markdown",
   "metadata": {},
   "source": [
    "Put in here your group number: \n",
    "\n",
    "Group 12"
   ]
  },
  {
   "cell_type": "markdown",
   "metadata": {
    "deletable": false,
    "editable": false,
    "nbgrader": {
     "cell_type": "markdown",
     "checksum": "1225ca0c7bda3bfe5312f292bf6294eb",
     "grade": false,
     "grade_id": "cell-093cc42ff04e9352",
     "locked": true,
     "schema_version": 3,
     "solution": false,
     "task": false
    }
   },
   "source": [
    "# Your tasks"
   ]
  },
  {
   "cell_type": "markdown",
   "metadata": {
    "deletable": false,
    "editable": false,
    "nbgrader": {
     "cell_type": "markdown",
     "checksum": "7c6f1d37f87b792ed4f34c845b8f8fbd",
     "grade": false,
     "grade_id": "cell-5660cc428a845e25",
     "locked": true,
     "schema_version": 3,
     "solution": false,
     "task": false
    }
   },
   "source": [
    "You can do all the tasks within `Linux` terminals of our JupyterLab environment. Some tasks contain questions refering to *regular* terminals outside the Online-enviroenment."
   ]
  },
  {
   "cell_type": "markdown",
   "metadata": {
    "deletable": false,
    "editable": false,
    "nbgrader": {
     "cell_type": "markdown",
     "checksum": "a8de0357e830855f4e74607b32a6cf70",
     "grade": false,
     "grade_id": "cell-6c44dcddb748cec4",
     "locked": true,
     "schema_version": 3,
     "solution": false,
     "task": false
    }
   },
   "source": [
    "Please answer all the tasks within a textfile *Linux_group_XX.txt* (replace XX with your group number). write down the command you used and the output if necessary. \n",
    "\n",
    "If you finished with all the tasks put this file in the same directory as this notbook is before submitting!\n",
    "\n",
    "You need to get 50% of all points to pass this special exercise. In this case you will earn a free shot for the regular python exercises."
   ]
  },
  {
   "cell_type": "markdown",
   "metadata": {
    "deletable": false,
    "editable": false,
    "nbgrader": {
     "cell_type": "markdown",
     "checksum": "66641ecb9c189dd30c690a5dce3fdd34",
     "grade": false,
     "grade_id": "cell-297b2b1b3bbdf18b",
     "locked": true,
     "schema_version": 3,
     "solution": false,
     "task": false
    }
   },
   "source": [
    "## 1. Basic shell commands (14 points)"
   ]
  },
  {
   "cell_type": "markdown",
   "metadata": {
    "deletable": false,
    "editable": false,
    "nbgrader": {
     "cell_type": "markdown",
     "checksum": "44a1d110d64eca2c97d4eca5266f2d65",
     "grade": false,
     "grade_id": "cell-d05cd8b40bedb6a0",
     "locked": true,
     "points": 14,
     "schema_version": 3,
     "solution": false,
     "task": true
    }
   },
   "source": [
    "1. Open a *Linux*-terminal. In which directory are you when you open a new terminal? With which *Unix*-command do you find out the directory you are currently in? *(Unix-shell and terminal)* [1 Point]\n",
    "\n",
    "2. How do you find out which *Linux-shell* you are working with? *(echo command and SHELL variable)* [1 Point]\n",
    "\n",
    "2. Launch the `nano` text-editor and create a file ```me.txt``` containing your name. *(usage of text editor)*\n",
    "  [0 Points, as this is a preparation for the next tasks, you need not to write anything!]\n",
    "\n",
    "3. Within a regular *Linux-shell:* How would you launch the editor (previous task) in a way so that you can continue to use your shell while the editor is running? *( foreground and background jobs)* [1 Point]\n",
    "\n",
    "4. After finishing the file `me.txt` and closing `nano`: Make a new subdirectory ```test1``` in your home directory *(Unix file-system commands)* [1 Point]\n",
    "\n",
    "5. Copy the file ```me.txt``` into the subdirectory as ```me_copy.txt``` *(file copy-command)* [1 Point]\n",
    "\n",
    "6. Does your copy-operation from the previous-command use a relative or an absolute path for the target-directory? *(absolute and relative paths)* [1 Point]\n",
    "\n",
    "7. Use the ```cd```-command to move between your home-directory and the subdiretory *(Unix file-system commands)* ]1 Point]\n",
    "\n",
    "6. Rename the copy ```me_copy.txt``` to ```me_renames.txt``` **while being in your home-directory** *(absolute and relative paths)* [1 Point]\n",
    "\n",
    "9. Using ```echo``` and a redirection of the standard output, add your date of birth at the end of the copy ```me_copy.txt``` *(redirection of ```STDOUT``` to a file)* [1 Point]\n",
    "\n",
    "10. Use the ```diff```-command to compare the two files ```me.txt``` and ```me_copy.txt```. If you did not yet use the ```diff```-command, then look it up on the internet. Understanding its output is very useful in many circumstances! [1 Point]\n",
    "\n",
    "11. Use the ```ls```-command (with appropriate options) to show ```me.txt``` and ```me_copy.txt``` together with their file sizes. Can you tell why the file-size difference is what it is? *(command-line options)* [1 Point]\n",
    "\n",
    "12. Delete the subdirectory ```test1``` and the copy of ```me.txt``` in it. Can you do this with a single command? *(Unix file-system commands)* [1 Point]\n",
    "\n",
    "13. Put two copies of ```me.txt``` (choose your own file names) into a new subdirectory ```test2```. Use the ```tar```-command to backup that directory to ```test2.tar.gz``` *(```tar```-command and archive-files)* [1 Point]\n",
    "\n",
    "14. Use ```tar``` to restore the contents of ```test2.tar.gz``` into a sub-directory ```test3``` *(```tar```-command)* [1 Point]"
   ]
  },
  {
   "cell_type": "markdown",
   "metadata": {
    "deletable": false,
    "editable": false,
    "nbgrader": {
     "cell_type": "markdown",
     "checksum": "1bbeca916fa22651c2d4944c0d4d64f4",
     "grade": false,
     "grade_id": "cell-c197e84f39ade8ea",
     "locked": true,
     "schema_version": 3,
     "solution": false,
     "task": false
    }
   },
   "source": [
    "## 2. More complex shell usage (21 points)"
   ]
  },
  {
   "cell_type": "markdown",
   "metadata": {
    "deletable": false,
    "editable": false,
    "nbgrader": {
     "cell_type": "markdown",
     "checksum": "a06da4ad16d2804a3a0b2952568cb71b",
     "grade": false,
     "grade_id": "cell-cb616d9dd38c385b",
     "locked": true,
     "points": 21,
     "schema_version": 3,
     "solution": false,
     "task": true
    }
   },
   "source": [
    "1. Make two files, `test.txt` containing some text, and `test.dat` containing the text `test.txt`. What command line is required to use `test.dat` to print the contents of `test.txt`? *(command line substituion)* [3 Points]\n",
    "\n",
    "2. Make a file containing two columns of numbers. Use `awk` to print out the average of each row and their sum. Use `awk` to print the sum of each column. *(awk-command)* [3 Points]\n",
    "\n",
    "3. Sort the output of the previous exercise on the first and then the second columns. *(sort-command)* [3 Points]\n",
    "     \n",
    "4. Use the `find` command to find all files called `*.txt` in your home directory and subdirectories. *(find-command)* [3 Points]\n",
    "\n",
    "5. Count the total number of lines of the files listed from the above `find` command. *(pipeline between find-command and wc-command)* [3 Points]\n",
    "\n",
    "6. Write a shell script to take a list of files, and print out the sorted list of the sizes of the files. [3 Points]\n",
    "\n",
    "7.  Write down a `for`-loop to rename all files called `*.txt` to `*.txt.old` (within the current directory). [3 Points]"
   ]
  },
  {
   "cell_type": "code",
   "execution_count": null,
   "metadata": {},
   "outputs": [],
   "source": []
  }
 ],
 "metadata": {
  "kernelspec": {
   "display_name": "Python 3",
   "language": "python",
   "name": "python3"
  },
  "language_info": {
   "codemirror_mode": {
    "name": "ipython",
    "version": 3
   },
   "file_extension": ".py",
   "mimetype": "text/x-python",
   "name": "python",
   "nbconvert_exporter": "python",
   "pygments_lexer": "ipython3",
   "version": "3.7.3"
  }
 },
 "nbformat": 4,
 "nbformat_minor": 4
}
